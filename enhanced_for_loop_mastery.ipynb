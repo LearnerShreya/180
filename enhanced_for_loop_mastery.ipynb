{
 "cells": [
  {
   "cell_type": "markdown",
   "id": "e0f35992",
   "metadata": {},
   "source": [
    "# Python `for` Loop Mastery\n",
    "\n",
    "This notebook covers `for` loop fundamentals to advanced topics with clean examples, optimizations, and best practices. Great for learning, revision, or technical interviews."
   ]
  },
  {
   "cell_type": "markdown",
   "id": "fc9151c2",
   "metadata": {},
   "source": [
    "## 1. Basic `for` Loop\n",
    "The `for` loop in Python is used to iterate over a sequence such as a list, tuple, string, or range."
   ]
  },
  {
   "cell_type": "code",
   "execution_count": 24,
   "id": "8c716b14",
   "metadata": {},
   "outputs": [
    {
     "name": "stdout",
     "output_type": "stream",
     "text": [
      "0\n",
      "1\n",
      "2\n",
      "3\n",
      "4\n"
     ]
    }
   ],
   "source": [
    "for i in range(5):\n",
    "    print(i)"
   ]
  },
  {
   "cell_type": "markdown",
   "id": "305ee455",
   "metadata": {},
   "source": [
    "## 2. Looping Through Lists"
   ]
  },
  {
   "cell_type": "code",
   "execution_count": 25,
   "id": "10b26c85",
   "metadata": {},
   "outputs": [
    {
     "name": "stdout",
     "output_type": "stream",
     "text": [
      "apple\n",
      "banana\n",
      "cherry\n"
     ]
    }
   ],
   "source": [
    "fruits = ['apple', 'banana', 'cherry']\n",
    "for fruit in fruits:\n",
    "    print(fruit)"
   ]
  },
  {
   "cell_type": "markdown",
   "id": "cebf4c4f",
   "metadata": {},
   "source": [
    "## 3. Using `range()` with `for` Loop"
   ]
  },
  {
   "cell_type": "code",
   "execution_count": 26,
   "id": "152f36f6",
   "metadata": {},
   "outputs": [
    {
     "name": "stdout",
     "output_type": "stream",
     "text": [
      "1\n",
      "2\n",
      "3\n",
      "4\n",
      "5\n"
     ]
    }
   ],
   "source": [
    "for i in range(1, 6):\n",
    "    print(i)  # prints 1 to 5"
   ]
  },
  {
   "cell_type": "markdown",
   "id": "726555b3",
   "metadata": {},
   "source": [
    "## 4. Loop with Index using `enumerate()`"
   ]
  },
  {
   "cell_type": "markdown",
   "id": "67f6c804",
   "metadata": {},
   "source": [
    "\n",
    "### Using `range(len(...))`\n",
    "\n",
    "**Explanation:**\n",
    "\n",
    "* `len(colors)` returns `3` → so `range(3)` gives `0, 1, 2`\n",
    "* `i` takes values `0`, `1`, `2` (these are indexes)\n",
    "* `colors[i]` accesses the element at each index\n",
    "\n",
    "📌 This approach **manually accesses** each item using its index.\n",
    "\n"
   ]
  },
  {
   "cell_type": "code",
   "execution_count": 27,
   "id": "f65396c1",
   "metadata": {},
   "outputs": [
    {
     "name": "stdout",
     "output_type": "stream",
     "text": [
      "0 red\n",
      "1 green\n",
      "2 blue\n"
     ]
    }
   ],
   "source": [
    "colors = ['red', 'green', 'blue']\n",
    "for i in range(len(colors)):\n",
    "    print(i, colors[i])"
   ]
  },
  {
   "cell_type": "markdown",
   "id": "42a4f732",
   "metadata": {},
   "source": [
    "### Using `enumerate()`\n",
    "\n",
    "**Explanation:**\n",
    "\n",
    "* `enumerate(colors)` returns `(0, 'red')`, `(1, 'green')`, `(2, 'blue')`\n",
    "* Each iteration gives you both the **index** and the **value**\n",
    "* It's cleaner and more Pythonic (preferred in interviews and real code)\n",
    "\n",
    "📌 No need to calculate length or access by index manually.\n",
    "\n"
   ]
  },
  {
   "cell_type": "code",
   "execution_count": 28,
   "id": "d9ec3645",
   "metadata": {},
   "outputs": [
    {
     "name": "stdout",
     "output_type": "stream",
     "text": [
      "0 red\n",
      "1 green\n",
      "2 blue\n"
     ]
    }
   ],
   "source": [
    "colors = ['red', 'green', 'blue']\n",
    "for index, color in enumerate(colors):\n",
    "    print(index, color)"
   ]
  },
  {
   "cell_type": "markdown",
   "id": "b73614bd",
   "metadata": {},
   "source": [
    "\n",
    "✅ **Conclusion:**\n",
    "\n",
    "* Use `range(len(...))` when you **really need** indexes only.\n",
    "* Use `enumerate()` when you need both **index and value** — it's **cleaner and safer**."
   ]
  },
  {
   "cell_type": "markdown",
   "id": "622e1a26",
   "metadata": {},
   "source": [
    "## 5. Nested `for` Loops\n",
    "Useful for patterns, matrices, and combinations."
   ]
  },
  {
   "cell_type": "code",
   "execution_count": 29,
   "id": "9b74b4bf",
   "metadata": {},
   "outputs": [
    {
     "name": "stdout",
     "output_type": "stream",
     "text": [
      "i=0, j=0\n",
      "i=0, j=1\n",
      "\n",
      "i=1, j=0\n",
      "i=1, j=1\n",
      "\n",
      "i=2, j=0\n",
      "i=2, j=1\n",
      "\n"
     ]
    }
   ],
   "source": [
    "# Nested loop: outer loop runs 3 times (i = 0, 1, 2)\n",
    "# Inner loop runs 2 times for each outer loop value\n",
    "# Each (i, j) pair is printed on a new line\n",
    "for i in range(3):\n",
    "    for j in range(2):\n",
    "        print(f\"i={i}, j={j}\")\n",
    "    print()  # adds a blank line after each i-block\n"
   ]
  },
  {
   "cell_type": "code",
   "execution_count": 30,
   "id": "957ad432",
   "metadata": {},
   "outputs": [
    {
     "name": "stdout",
     "output_type": "stream",
     "text": [
      "i=0, j=0      i=0, j=1      \n",
      "i=1, j=0      i=1, j=1      \n",
      "i=2, j=0      i=2, j=1      \n"
     ]
    }
   ],
   "source": [
    "# Same logic as above, but inner loop prints on the same line\n",
    "# end='      ' keeps printing on the same line with spacing between pairs\n",
    "for i in range(3):\n",
    "    for j in range(2):\n",
    "        print(f\"i={i}, j={j}\", end='      ')\n",
    "    print()  # line break after each i-block\n"
   ]
  },
  {
   "cell_type": "markdown",
   "id": "2f75eead",
   "metadata": {},
   "source": [
    "## 6. `for` Loop with `else`\n",
    "The `else` block is executed when the loop completes normally (not interrupted by `break`)."
   ]
  },
  {
   "cell_type": "code",
   "execution_count": 31,
   "id": "783cb6a4",
   "metadata": {},
   "outputs": [
    {
     "name": "stdout",
     "output_type": "stream",
     "text": [
      "0\n",
      "1\n",
      "2\n",
      "Loop completed successfully.\n"
     ]
    }
   ],
   "source": [
    "for num in range(3):\n",
    "    print(num)\n",
    "else:\n",
    "    print(\"Loop completed successfully.\")"
   ]
  },
  {
   "cell_type": "markdown",
   "id": "4790c5df",
   "metadata": {},
   "source": [
    "## 7. Using `break` in a Loop"
   ]
  },
  {
   "cell_type": "code",
   "execution_count": 32,
   "id": "107611c8",
   "metadata": {},
   "outputs": [
    {
     "name": "stdout",
     "output_type": "stream",
     "text": [
      "0\n",
      "1\n",
      "2\n",
      "3\n",
      "4\n"
     ]
    }
   ],
   "source": [
    "for i in range(10):\n",
    "    if i == 5:\n",
    "        break\n",
    "    print(i)"
   ]
  },
  {
   "cell_type": "markdown",
   "id": "5f8055c9",
   "metadata": {},
   "source": [
    "## 8. Using `continue` in a Loop"
   ]
  },
  {
   "cell_type": "code",
   "execution_count": 33,
   "id": "7739338d",
   "metadata": {},
   "outputs": [
    {
     "name": "stdout",
     "output_type": "stream",
     "text": [
      "0\n",
      "1\n",
      "3\n",
      "4\n"
     ]
    }
   ],
   "source": [
    "for i in range(5):\n",
    "    if i == 2:\n",
    "        continue\n",
    "    print(i)"
   ]
  },
  {
   "cell_type": "markdown",
   "id": "7a2938b6",
   "metadata": {},
   "source": [
    "## 9. Using `_` when loop variable is not used"
   ]
  },
  {
   "cell_type": "code",
   "execution_count": 34,
   "id": "9133bd63",
   "metadata": {},
   "outputs": [
    {
     "name": "stdout",
     "output_type": "stream",
     "text": [
      "Practice makes progress!\n",
      "Practice makes progress!\n",
      "Practice makes progress!\n",
      "Practice makes progress!\n",
      "Practice makes progress!\n"
     ]
    }
   ],
   "source": [
    "for _ in range(5): # Print a line 5 times, no need for index\n",
    "    print(\"Practice makes progress!\")"
   ]
  },
  {
   "cell_type": "markdown",
   "id": "b5887549",
   "metadata": {},
   "source": [
    "## 10. Pattern Printing with `for` Loops\n",
    "Using string multiplication for optimization."
   ]
  },
  {
   "cell_type": "code",
   "execution_count": 35,
   "id": "7a964190",
   "metadata": {},
   "outputs": [
    {
     "name": "stdout",
     "output_type": "stream",
     "text": [
      "* \n",
      "* * \n",
      "* * * \n",
      "* * * * \n",
      "* * * * * \n"
     ]
    }
   ],
   "source": [
    "n = 5\n",
    "for i in range(1, n + 1):\n",
    "    print('* ' * i)"
   ]
  },
  {
   "cell_type": "markdown",
   "id": "d791cda5",
   "metadata": {},
   "source": [
    "## 11. List Comprehension vs. Loop\n",
    "List comprehension is more concise."
   ]
  },
  {
   "cell_type": "code",
   "execution_count": 36,
   "id": "c66b089e",
   "metadata": {},
   "outputs": [
    {
     "name": "stdout",
     "output_type": "stream",
     "text": [
      "[1, 4, 9, 16, 25]\n"
     ]
    }
   ],
   "source": [
    "# Traditional loop\n",
    "squares = []\n",
    "for i in range(1, 6):\n",
    "    squares.append(i**2)\n",
    "print(squares)"
   ]
  },
  {
   "cell_type": "code",
   "execution_count": 37,
   "id": "c6aa0c5a",
   "metadata": {},
   "outputs": [
    {
     "name": "stdout",
     "output_type": "stream",
     "text": [
      "[1, 4, 9, 16, 25]\n"
     ]
    }
   ],
   "source": [
    "# List comprehension\n",
    "squares = [i**2 for i in range(1, 6)]\n",
    "print(squares)"
   ]
  },
  {
   "cell_type": "markdown",
   "id": "ef0d7e5f",
   "metadata": {},
   "source": [
    "## 12. Generator Expression vs. List Comprehension"
   ]
  },
  {
   "cell_type": "code",
   "execution_count": 38,
   "id": "2a0cbfb7",
   "metadata": {},
   "outputs": [
    {
     "name": "stdout",
     "output_type": "stream",
     "text": [
      "1\n",
      "4\n",
      "<generator object <genexpr> at 0x000001EB5A72AF60>\n"
     ]
    }
   ],
   "source": [
    "# Generator (lazy evaluation)\n",
    "gen = (i**2 for i in range(1, 6))\n",
    "print(next(gen))  # Use next() to get items\n",
    "print(next(gen))  # Use next() to get items\n",
    "print(gen)  # Use next() to get items"
   ]
  },
  {
   "cell_type": "code",
   "execution_count": 39,
   "id": "2f8aab5b",
   "metadata": {},
   "outputs": [
    {
     "name": "stdout",
     "output_type": "stream",
     "text": [
      "[1, 4, 9, 16, 25]\n"
     ]
    }
   ],
   "source": [
    "# List comprehension (materializes the full list)\n",
    "print([i**2 for i in range(1, 6)])"
   ]
  },
  {
   "cell_type": "code",
   "execution_count": 40,
   "id": "84c41c92",
   "metadata": {},
   "outputs": [
    {
     "name": "stdout",
     "output_type": "stream",
     "text": [
      "['1', '4', '9', '16', '25']\n",
      "<generator object <genexpr> at 0x000001EB5A5565A0>\n"
     ]
    }
   ],
   "source": [
    "print([str(j*j) for j in range(1, i + 1)])   # list comprehension → creates a list\n",
    "print((str(j) for j in range(1, i + 1)))   # generator expression → generates values one by one\n",
    "# 2nd is a generator expression, not a list comprehension."
   ]
  },
  {
   "cell_type": "code",
   "execution_count": 41,
   "id": "c3a37639",
   "metadata": {},
   "outputs": [
    {
     "name": "stdout",
     "output_type": "stream",
     "text": [
      "Sum of even numbers: 30\n"
     ]
    }
   ],
   "source": [
    "# ✅ 3. Sum of Even Numbers from 1 to n\n",
    "# Use sum() with a generator and step in range()\n",
    "n = 10\n",
    "total = sum(i for i in range(2, n + 1, 2))\n",
    "print(\"Sum of even numbers:\", total)"
   ]
  },
  {
   "cell_type": "markdown",
   "id": "af66b944",
   "metadata": {},
   "source": [
    "## 13. Number Triangle using `join()` + Generator Expression"
   ]
  },
  {
   "cell_type": "code",
   "execution_count": 42,
   "id": "af634b6f",
   "metadata": {},
   "outputs": [
    {
     "name": "stdout",
     "output_type": "stream",
     "text": [
      "1\n",
      "1 2\n",
      "1 2 3\n",
      "1 2 3 4\n",
      "1 2 3 4 5\n"
     ]
    }
   ],
   "source": [
    "for i in range(1, 6):\n",
    "    print(' '.join(str(j) for j in range(1, i + 1)))"
   ]
  },
  {
   "cell_type": "markdown",
   "id": "a630ab5c",
   "metadata": {},
   "source": [
    "**Note:** `str(j) for j in range(...)` is a generator expression passed to `join()`."
   ]
  },
  {
   "cell_type": "markdown",
   "id": "3ac68af9",
   "metadata": {},
   "source": [
    "## 14. Mirror Hourglass Pattern (Optimized)"
   ]
  },
  {
   "cell_type": "code",
   "execution_count": 43,
   "id": "735ccb9f",
   "metadata": {},
   "outputs": [
    {
     "name": "stdout",
     "output_type": "stream",
     "text": [
      "* * * * * * * * * * \n",
      "* * * *     * * * * \n",
      "* * *         * * * \n",
      "* *             * * \n",
      "*                 * \n",
      "*                 * \n",
      "* *             * * \n",
      "* * *         * * * \n",
      "* * * *     * * * * \n",
      "* * * * * * * * * * \n"
     ]
    }
   ],
   "source": [
    "for i in range(5):\n",
    "    star = '* ' * (5 - i)\n",
    "    space = '  ' * (2 * i)\n",
    "    print(star + space + star)\n",
    "\n",
    "for i in range(5):\n",
    "    star = '* ' * (i + 1)\n",
    "    space = '  ' * (2 * (4 - i))\n",
    "    print(star + space + star)\n",
    "\n",
    "# > print(a, b, c)  → Adds a space between each  \n",
    "# > print(a + b + c) → Concatenates exactly as written (no extra space)"
   ]
  },
  {
   "cell_type": "markdown",
   "id": "f9adc496",
   "metadata": {},
   "source": [
    "## 15. Hollow Triangle Pattern"
   ]
  },
  {
   "cell_type": "code",
   "execution_count": 44,
   "id": "f185c3bf",
   "metadata": {},
   "outputs": [
    {
     "name": "stdout",
     "output_type": "stream",
     "text": [
      "* \n",
      "* * \n",
      "*   * \n",
      "*     * \n",
      "* * * * * \n"
     ]
    }
   ],
   "source": [
    "n = 5\n",
    "for i in range(1, n + 1):\n",
    "    for j in range(1, i + 1):\n",
    "        if j == 1 or j == i or i == n:\n",
    "            print('*', end=' ')\n",
    "        else:\n",
    "            print(' ', end=' ')\n",
    "    print()"
   ]
  },
  {
   "cell_type": "markdown",
   "id": "2e63037e",
   "metadata": {},
   "source": [
    "### ✅ 7. Alphabet Triangle Pattern"
   ]
  },
  {
   "cell_type": "code",
   "execution_count": 45,
   "id": "6d3c0010",
   "metadata": {},
   "outputs": [
    {
     "name": "stdout",
     "output_type": "stream",
     "text": [
      "A \n",
      "A B \n",
      "A B C \n",
      "A B C D \n",
      "A B C D E \n"
     ]
    }
   ],
   "source": [
    "n = 5\n",
    "for i in range(n):\n",
    "    for j in range(i + 1):\n",
    "        print(chr(65 + j), end=\" \")\n",
    "    print()"
   ]
  },
  {
   "cell_type": "markdown",
   "id": "e01320e6",
   "metadata": {},
   "source": [
    "## Summary:\n",
    "- Use `range()` for simple iterations\n",
    "- Prefer list comprehensions where appropriate\n",
    "- Use `enumerate()` for index access\n",
    "- Avoid unnecessary variables by using `_`\n",
    "- Use `break`, `continue`, and `else` for advanced control\n",
    "- Optimize pattern printing with string multiplication\n"
   ]
  }
 ],
 "metadata": {
  "kernelspec": {
   "display_name": "Python 3",
   "language": "python",
   "name": "python3"
  },
  "language_info": {
   "codemirror_mode": {
    "name": "ipython",
    "version": 3
   },
   "file_extension": ".py",
   "mimetype": "text/x-python",
   "name": "python",
   "nbconvert_exporter": "python",
   "pygments_lexer": "ipython3",
   "version": "3.13.0"
  }
 },
 "nbformat": 4,
 "nbformat_minor": 5
}
